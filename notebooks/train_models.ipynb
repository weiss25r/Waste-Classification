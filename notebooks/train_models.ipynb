{
 "cells": [
  {
   "cell_type": "code",
   "execution_count": 1,
   "id": "914972f1",
   "metadata": {},
   "outputs": [],
   "source": [
    "import sys\n",
    "import os\n",
    "sys.path.append(os.path.abspath('..'))\n",
    "\n",
    "from wastenet.train import WasteClassifierTrainer"
   ]
  },
  {
   "cell_type": "code",
   "execution_count": 3,
   "id": "746005cd",
   "metadata": {},
   "outputs": [],
   "source": [
    "waste_cls_small_v1 = WasteClassifierTrainer('../training/config/config_small_v1.yaml')\n",
    "waste_cls_small_v1.train()\n",
    "waste_cls_small_v1.test()"
   ]
  },
  {
   "cell_type": "code",
   "execution_count": 4,
   "id": "3e0f94be",
   "metadata": {},
   "outputs": [],
   "source": [
    "waste_cls_small_v1.test_checkpoint('../training/checkpoints/waste_cls_jitter_small/waste_cls_jitter_small_best.ckpt')"
   ]
  },
  {
   "cell_type": "code",
   "execution_count": 5,
   "id": "85231501",
   "metadata": {},
   "outputs": [],
   "source": [
    "waste_cls_small_v2 = WasteClassifierTrainer('../training/config/config_small_v2.yaml')\n",
    "waste_cls_small_v2.train()\n",
    "waste_cls_small_v2.test()"
   ]
  },
  {
   "cell_type": "code",
   "execution_count": 6,
   "id": "c37a1539",
   "metadata": {},
   "outputs": [],
   "source": [
    "waste_cls_small_v2.test_checkpoint('../training/checkpoints/waste_cls_jitter_vf_small/waste_cls_jitter_vf_small_best.ckpt')"
   ]
  },
  {
   "cell_type": "code",
   "execution_count": 2,
   "id": "a0e46184",
   "metadata": {},
   "outputs": [],
   "source": [
    "waste_cls_small_v3 = WasteClassifierTrainer('../training/config/config_small_v3.yaml')\n",
    "waste_cls_small_v3.train()\n",
    "waste_cls_small_v3.test()"
   ]
  },
  {
   "cell_type": "code",
   "execution_count": 3,
   "id": "e9ca4bc1",
   "metadata": {},
   "outputs": [],
   "source": [
    "waste_cls_small_v3.test_checkpoint('../training/checkpoints/waste_cls_jitter_hue_small/waste_cls_jitter_hue_small_best.ckpt')\n"
   ]
  },
  {
   "cell_type": "code",
   "execution_count": 4,
   "id": "8cc4830d",
   "metadata": {},
   "outputs": [],
   "source": [
    "waste_cls_large = WasteClassifierTrainer('../training/config/config_large_v1.yaml')\n",
    "waste_cls_large.train()"
   ]
  },
  {
   "cell_type": "code",
   "execution_count": 5,
   "id": "4105d8a8",
   "metadata": {},
   "outputs": [],
   "source": [
    "waste_cls_large.test()"
   ]
  },
  {
   "cell_type": "code",
   "execution_count": 6,
   "id": "5d216fce",
   "metadata": {},
   "outputs": [],
   "source": [
    "waste_cls_large.test_checkpoint('../training/checkpoints/waste_cls_jitter_large/waste_cls_jitter_large_best.ckpt')"
   ]
  }
 ],
 "metadata": {
  "kernelspec": {
   "display_name": "waste_cls",
   "language": "python",
   "name": "python3"
  },
  "language_info": {
   "codemirror_mode": {
    "name": "ipython",
    "version": 3
   },
   "file_extension": ".py",
   "mimetype": "text/x-python",
   "name": "python",
   "nbconvert_exporter": "python",
   "pygments_lexer": "ipython3",
   "version": "3.13.5"
  }
 },
 "nbformat": 4,
 "nbformat_minor": 5
}
