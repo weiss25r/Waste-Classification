{
 "cells": [
  {
   "cell_type": "code",
   "execution_count": null,
   "id": "cccff93f",
   "metadata": {},
   "outputs": [],
   "source": [
    "import sys\n",
    "import os\n",
    "import torch\n",
    "sys.path.append(os.path.abspath('..'))\n",
    "\n",
    "from wastenet.train import WasteClassifierTrainer"
   ]
  },
  {
   "cell_type": "code",
   "execution_count": null,
   "id": "285c8b0c",
   "metadata": {},
   "outputs": [
    {
     "name": "stderr",
     "output_type": "stream",
     "text": [
      "GPU available: False, used: False\n",
      "TPU available: False, using: 0 TPU cores\n",
      "HPU available: False, using: 0 HPUs\n"
     ]
    }
   ],
   "source": [
    "waste_cls_small_v1 = WasteClassifierTrainer('../training/config/config_small_v1.yaml')\n",
    "waste_cls_small_v1.load_model(\"../training/checkpoints/waste_cls_jitter_small/waste_cls_jitter_small_last.ckpt\")\n",
    "  \n",
    "input_sample = torch.randn(1, 3, 224, 224)\n",
    "waste_cls_small_v1.model.to_onnx(file_path=\"../models/model_small.onnx\", input_sample=input_sample, export_params=True)"
   ]
  },
  {
   "cell_type": "code",
   "execution_count": 3,
   "id": "f639a3df",
   "metadata": {},
   "outputs": [
    {
     "name": "stderr",
     "output_type": "stream",
     "text": [
      "GPU available: False, used: False\n",
      "TPU available: False, using: 0 TPU cores\n",
      "HPU available: False, using: 0 HPUs\n"
     ]
    }
   ],
   "source": [
    "waste_cls_large_v1 = WasteClassifierTrainer('../training/config/config_large_v1.yaml')\n",
    "waste_cls_large_v1.load_model(\"../training/checkpoints/waste_cls_jitter_large/waste_cls_jitter_large_last.ckpt\")\n",
    "  \n",
    "input_sample = torch.randn(1, 3, 224, 224)\n",
    "waste_cls_large_v1.model.to_onnx(file_path=\"../models/model_large.onnx\", input_sample=input_sample, export_params=True)"
   ]
  }
 ],
 "metadata": {
  "kernelspec": {
   "display_name": "waste_cls",
   "language": "python",
   "name": "python3"
  },
  "language_info": {
   "codemirror_mode": {
    "name": "ipython",
    "version": 3
   },
   "file_extension": ".py",
   "mimetype": "text/x-python",
   "name": "python",
   "nbconvert_exporter": "python",
   "pygments_lexer": "ipython3",
   "version": "3.13.5"
  }
 },
 "nbformat": 4,
 "nbformat_minor": 5
}
