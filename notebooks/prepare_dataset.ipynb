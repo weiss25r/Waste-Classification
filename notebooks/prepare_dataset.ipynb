{
 "cells": [
  {
   "cell_type": "code",
   "execution_count": 20,
   "id": "48701ea9",
   "metadata": {},
   "outputs": [],
   "source": [
    "import pandas as pd\n",
    "import numpy as np\n",
    "import os\n",
    "import random\n",
    "import shutil\n",
    "import cv2\n",
    "\n",
    "from PIL import Image"
   ]
  },
  {
   "cell_type": "markdown",
   "id": "7e2d75ee",
   "metadata": {},
   "source": [
    "# Downloading datasets"
   ]
  },
  {
   "cell_type": "code",
   "execution_count": 21,
   "id": "61d36caf",
   "metadata": {},
   "outputs": [
    {
     "name": "stdout",
     "output_type": "stream",
     "text": [
      "Dataset URL: https://www.kaggle.com/datasets/asdasdasasdas/garbage-classification\n"
     ]
    }
   ],
   "source": [
    "import os\n",
    "from kaggle.api.kaggle_api_extended import KaggleApi\n",
    "\n",
    "api = KaggleApi()\n",
    "api.authenticate()\n",
    "api.dataset_download_files('asdasdasasdas/garbage-classification', path='../data/kaggle_1', unzip=True)\n"
   ]
  },
  {
   "cell_type": "markdown",
   "id": "83e00f2c",
   "metadata": {},
   "source": [
    "Modifica al file originale"
   ]
  },
  {
   "cell_type": "code",
   "execution_count": 22,
   "id": "59307270",
   "metadata": {},
   "outputs": [
    {
     "name": "stdout",
     "output_type": "stream",
     "text": [
      "Dataset URL: https://www.kaggle.com/datasets/mostafaabla/garbage-classification\n"
     ]
    }
   ],
   "source": [
    "api.dataset_download_files('mostafaabla/garbage-classification', path='../data/kaggle_2', unzip=True)"
   ]
  },
  {
   "cell_type": "markdown",
   "id": "e7bf497f",
   "metadata": {},
   "source": [
    "Let's do some renaiming and refactoring:"
   ]
  },
  {
   "cell_type": "code",
   "execution_count": 23,
   "id": "b02cdd18",
   "metadata": {},
   "outputs": [],
   "source": [
    "os.rename('../data/kaggle_2/garbage_classification', '../data/kaggle_2/imgs')\n",
    "shutil.move('../data/kaggle_1/Garbage classification/Garbage classification', '../data/kaggle_1/imgs')\n",
    "shutil.rmtree('../data/kaggle_1/Garbage classification')"
   ]
  },
  {
   "cell_type": "markdown",
   "id": "e8855e9d",
   "metadata": {},
   "source": [
    "We will use zero-indexed files"
   ]
  },
  {
   "cell_type": "code",
   "execution_count": 24,
   "id": "c830a5b3",
   "metadata": {},
   "outputs": [],
   "source": [
    "os.remove('../data/kaggle_1/one-indexed-files.txt')\n",
    "os.remove('../data/kaggle_1/one-indexed-files-notrash_train.txt')\n",
    "os.remove('../data/kaggle_1/one-indexed-files-notrash_test.txt')\n",
    "os.remove('../data/kaggle_1/one-indexed-files-notrash_val.txt')"
   ]
  },
  {
   "cell_type": "code",
   "execution_count": 25,
   "id": "8033cbab",
   "metadata": {},
   "outputs": [],
   "source": [
    "annotations_og = pd.read_csv('../data/kaggle_1/zero-indexed-files.txt', sep=' ', header=None)\n",
    "annotations_og.columns = ['file', 'class']\n",
    "\n",
    "random.seed(42)"
   ]
  },
  {
   "cell_type": "code",
   "execution_count": 26,
   "id": "89810b52",
   "metadata": {},
   "outputs": [
    {
     "data": {
      "text/html": [
       "<div>\n",
       "<style scoped>\n",
       "    .dataframe tbody tr th:only-of-type {\n",
       "        vertical-align: middle;\n",
       "    }\n",
       "\n",
       "    .dataframe tbody tr th {\n",
       "        vertical-align: top;\n",
       "    }\n",
       "\n",
       "    .dataframe thead th {\n",
       "        text-align: right;\n",
       "    }\n",
       "</style>\n",
       "<table border=\"1\" class=\"dataframe\">\n",
       "  <thead>\n",
       "    <tr style=\"text-align: right;\">\n",
       "      <th></th>\n",
       "      <th>file</th>\n",
       "      <th>class</th>\n",
       "    </tr>\n",
       "  </thead>\n",
       "  <tbody>\n",
       "    <tr>\n",
       "      <th>0</th>\n",
       "      <td>glass1.jpg</td>\n",
       "      <td>0</td>\n",
       "    </tr>\n",
       "    <tr>\n",
       "      <th>1</th>\n",
       "      <td>glass2.jpg</td>\n",
       "      <td>0</td>\n",
       "    </tr>\n",
       "    <tr>\n",
       "      <th>2</th>\n",
       "      <td>glass3.jpg</td>\n",
       "      <td>0</td>\n",
       "    </tr>\n",
       "    <tr>\n",
       "      <th>3</th>\n",
       "      <td>glass4.jpg</td>\n",
       "      <td>0</td>\n",
       "    </tr>\n",
       "    <tr>\n",
       "      <th>4</th>\n",
       "      <td>glass5.jpg</td>\n",
       "      <td>0</td>\n",
       "    </tr>\n",
       "    <tr>\n",
       "      <th>...</th>\n",
       "      <td>...</td>\n",
       "      <td>...</td>\n",
       "    </tr>\n",
       "    <tr>\n",
       "      <th>2522</th>\n",
       "      <td>trash133.jpg</td>\n",
       "      <td>5</td>\n",
       "    </tr>\n",
       "    <tr>\n",
       "      <th>2523</th>\n",
       "      <td>trash134.jpg</td>\n",
       "      <td>5</td>\n",
       "    </tr>\n",
       "    <tr>\n",
       "      <th>2524</th>\n",
       "      <td>trash135.jpg</td>\n",
       "      <td>5</td>\n",
       "    </tr>\n",
       "    <tr>\n",
       "      <th>2525</th>\n",
       "      <td>trash136.jpg</td>\n",
       "      <td>5</td>\n",
       "    </tr>\n",
       "    <tr>\n",
       "      <th>2526</th>\n",
       "      <td>trash137.jpg</td>\n",
       "      <td>5</td>\n",
       "    </tr>\n",
       "  </tbody>\n",
       "</table>\n",
       "<p>2527 rows × 2 columns</p>\n",
       "</div>"
      ],
      "text/plain": [
       "              file  class\n",
       "0       glass1.jpg      0\n",
       "1       glass2.jpg      0\n",
       "2       glass3.jpg      0\n",
       "3       glass4.jpg      0\n",
       "4       glass5.jpg      0\n",
       "...            ...    ...\n",
       "2522  trash133.jpg      5\n",
       "2523  trash134.jpg      5\n",
       "2524  trash135.jpg      5\n",
       "2525  trash136.jpg      5\n",
       "2526  trash137.jpg      5\n",
       "\n",
       "[2527 rows x 2 columns]"
      ]
     },
     "execution_count": 26,
     "metadata": {},
     "output_type": "execute_result"
    }
   ],
   "source": [
    "annotations_og"
   ]
  },
  {
   "cell_type": "code",
   "execution_count": 27,
   "id": "24ac1849",
   "metadata": {},
   "outputs": [],
   "source": [
    "def add_files(files, n, offset, class_name_src, class_name_dst):\n",
    "    random.shuffle(files)\n",
    "    \n",
    "    files = files[:n]\n",
    "    new_files = []\n",
    "    \n",
    "    for f, i in zip(files, np.arange(offset+1, offset+n+1)):\n",
    "        shutil.copyfile(f'../data/kaggle_2/imgs/{class_name_src}/{f}', f'../data/kaggle_1/imgs/{class_name_dst}/{class_name_dst}{i}.jpg')\n",
    "        new_files.append(f'{class_name_dst}{i}.jpg')\n",
    "    \n",
    "    return new_files"
   ]
  },
  {
   "cell_type": "code",
   "execution_count": 28,
   "id": "ea51687c",
   "metadata": {},
   "outputs": [],
   "source": [
    "class_offset = {\n",
    "    \"cardboard\": (403, 447, 2),\n",
    "    \"plastic\": (482, 368, 3),\n",
    "    \"trash\": (137,697, 5),\n",
    "    \"paper\": (594, 256, 1),\n",
    "    \"metal\": (410, 440, 4)\n",
    "}\n",
    "\n",
    "#offset, n, index"
   ]
  },
  {
   "cell_type": "code",
   "execution_count": 29,
   "id": "4a7d0909",
   "metadata": {},
   "outputs": [],
   "source": [
    "for c, i in class_offset.items():\n",
    "    files = os.listdir(f'../data/kaggle_2/imgs/{c}')\n",
    "    new_files = add_files(files, len(files), i[0], c, c)\n",
    "    \n",
    "    annotations_og = pd.concat([annotations_og, pd.DataFrame({'file': new_files, 'class': i[2]})])"
   ]
  },
  {
   "cell_type": "code",
   "execution_count": 30,
   "id": "2a2e21c6",
   "metadata": {},
   "outputs": [],
   "source": [
    "i = 501\n",
    "for c in [\"green-glass\", \"brown-glass\", \"white-glass\"]:\n",
    "    files = os.listdir(f'../data/kaggle_2/imgs/{c}')\n",
    "    new_files = add_files(files, 115, i, c, 'glass')\n",
    "    annotations_og = pd.concat([annotations_og, pd.DataFrame({'file': new_files, 'class': 0})])\n",
    "    i += 150"
   ]
  },
  {
   "cell_type": "code",
   "execution_count": null,
   "id": "5a286693",
   "metadata": {},
   "outputs": [],
   "source": [
    "annotations_og.sort_values(['class', 'file'], inplace=True)\n",
    "annotations_og.reset_index(drop=True, inplace=True)\n",
    "annotations_og.to_csv('../data/kaggle_1/annotations.csv', sep=' ', index=False, header=False)"
   ]
  },
  {
   "cell_type": "markdown",
   "id": "7118ac40",
   "metadata": {},
   "source": [
    "# Train - test - val split"
   ]
  },
  {
   "cell_type": "code",
   "execution_count": 32,
   "id": "66b83109",
   "metadata": {},
   "outputs": [],
   "source": [
    "from sklearn.model_selection import train_test_split\n",
    "\n",
    "train, test = train_test_split(annotations_og, test_size=0.2)\n",
    "train, val = train_test_split(train, test_size=0.25)"
   ]
  },
  {
   "cell_type": "code",
   "execution_count": 33,
   "id": "a74c5ee1",
   "metadata": {},
   "outputs": [],
   "source": [
    "train.to_csv('../data/train.csv', sep=' ', index=False, header=False)\n",
    "val.to_csv('../data/val.csv', sep=' ', index=False, header=False)\n",
    "test.to_csv('../data//test.csv', sep=' ', index=False, header=False)"
   ]
  },
  {
   "cell_type": "code",
   "execution_count": 34,
   "id": "0c4b21d6",
   "metadata": {},
   "outputs": [
    {
     "data": {
      "text/html": [
       "<div>\n",
       "<style scoped>\n",
       "    .dataframe tbody tr th:only-of-type {\n",
       "        vertical-align: middle;\n",
       "    }\n",
       "\n",
       "    .dataframe tbody tr th {\n",
       "        vertical-align: top;\n",
       "    }\n",
       "\n",
       "    .dataframe thead th {\n",
       "        text-align: right;\n",
       "    }\n",
       "</style>\n",
       "<table border=\"1\" class=\"dataframe\">\n",
       "  <thead>\n",
       "    <tr style=\"text-align: right;\">\n",
       "      <th></th>\n",
       "      <th>file</th>\n",
       "    </tr>\n",
       "    <tr>\n",
       "      <th>class</th>\n",
       "      <th></th>\n",
       "    </tr>\n",
       "  </thead>\n",
       "  <tbody>\n",
       "    <tr>\n",
       "      <th>0</th>\n",
       "      <td>846</td>\n",
       "    </tr>\n",
       "    <tr>\n",
       "      <th>1</th>\n",
       "      <td>1644</td>\n",
       "    </tr>\n",
       "    <tr>\n",
       "      <th>2</th>\n",
       "      <td>1294</td>\n",
       "    </tr>\n",
       "    <tr>\n",
       "      <th>3</th>\n",
       "      <td>1347</td>\n",
       "    </tr>\n",
       "    <tr>\n",
       "      <th>4</th>\n",
       "      <td>1179</td>\n",
       "    </tr>\n",
       "    <tr>\n",
       "      <th>5</th>\n",
       "      <td>834</td>\n",
       "    </tr>\n",
       "  </tbody>\n",
       "</table>\n",
       "</div>"
      ],
      "text/plain": [
       "       file\n",
       "class      \n",
       "0       846\n",
       "1      1644\n",
       "2      1294\n",
       "3      1347\n",
       "4      1179\n",
       "5       834"
      ]
     },
     "execution_count": 34,
     "metadata": {},
     "output_type": "execute_result"
    }
   ],
   "source": [
    "annotations_og.groupby('class').count()"
   ]
  },
  {
   "cell_type": "markdown",
   "id": "d4bd7dbb",
   "metadata": {},
   "source": [
    "Let's delete kaggle_2 folder:"
   ]
  },
  {
   "cell_type": "code",
   "execution_count": 35,
   "id": "334127da",
   "metadata": {},
   "outputs": [
    {
     "data": {
      "text/html": [
       "<div>\n",
       "<style scoped>\n",
       "    .dataframe tbody tr th:only-of-type {\n",
       "        vertical-align: middle;\n",
       "    }\n",
       "\n",
       "    .dataframe tbody tr th {\n",
       "        vertical-align: top;\n",
       "    }\n",
       "\n",
       "    .dataframe thead th {\n",
       "        text-align: right;\n",
       "    }\n",
       "</style>\n",
       "<table border=\"1\" class=\"dataframe\">\n",
       "  <thead>\n",
       "    <tr style=\"text-align: right;\">\n",
       "      <th></th>\n",
       "      <th>file</th>\n",
       "      <th>class</th>\n",
       "    </tr>\n",
       "  </thead>\n",
       "  <tbody>\n",
       "    <tr>\n",
       "      <th>0</th>\n",
       "      <td>glass1.jpg</td>\n",
       "      <td>0</td>\n",
       "    </tr>\n",
       "  </tbody>\n",
       "</table>\n",
       "</div>"
      ],
      "text/plain": [
       "         file  class\n",
       "0  glass1.jpg      0"
      ]
     },
     "execution_count": 35,
     "metadata": {},
     "output_type": "execute_result"
    }
   ],
   "source": [
    "annotations_og[annotations_og['file'] == 'glass1.jpg']"
   ]
  },
  {
   "cell_type": "code",
   "execution_count": 36,
   "id": "36fdd9c0",
   "metadata": {},
   "outputs": [],
   "source": [
    "shutil.rmtree('../data/kaggle_2')"
   ]
  },
  {
   "cell_type": "code",
   "execution_count": 37,
   "id": "15ec88a1",
   "metadata": {},
   "outputs": [
    {
     "data": {
      "text/plain": [
       "'../data/imgs'"
      ]
     },
     "execution_count": 37,
     "metadata": {},
     "output_type": "execute_result"
    }
   ],
   "source": [
    "shutil.move('../data/kaggle_1/imgs', '../data/')"
   ]
  },
  {
   "cell_type": "code",
   "execution_count": 38,
   "id": "b71f5a44",
   "metadata": {},
   "outputs": [
    {
     "data": {
      "text/plain": [
       "'../data/annotations.csv'"
      ]
     },
     "execution_count": 38,
     "metadata": {},
     "output_type": "execute_result"
    }
   ],
   "source": [
    "shutil.move('../data/kaggle_1/annotations.csv', '../data/')"
   ]
  },
  {
   "cell_type": "code",
   "execution_count": 39,
   "id": "d9816733",
   "metadata": {},
   "outputs": [],
   "source": [
    "shutil.rmtree('../data/kaggle_1')"
   ]
  }
 ],
 "metadata": {
  "kernelspec": {
   "display_name": "garbage_cls",
   "language": "python",
   "name": "python3"
  },
  "language_info": {
   "codemirror_mode": {
    "name": "ipython",
    "version": 3
   },
   "file_extension": ".py",
   "mimetype": "text/x-python",
   "name": "python",
   "nbconvert_exporter": "python",
   "pygments_lexer": "ipython3",
   "version": "3.13.5"
  }
 },
 "nbformat": 4,
 "nbformat_minor": 5
}
