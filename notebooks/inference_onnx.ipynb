{
 "cells": [
  {
   "cell_type": "code",
   "execution_count": null,
   "id": "a4b0c3a4",
   "metadata": {},
   "outputs": [],
   "source": [
    "import sys\n",
    "import os\n",
    "sys.path.append(os.path.abspath('..'))"
   ]
  },
  {
   "cell_type": "code",
   "execution_count": null,
   "id": "5bbaddca",
   "metadata": {},
   "outputs": [],
   "source": [
    "from wastenet.inference import InferenceSession\n",
    "from PIL import Image\n",
    "model = InferenceSession('../models/model_large.onnx')\n",
    "print(model.make_prediction(Image.open('../sprite.jpg').convert(\"RGB\")))"
   ]
  },
  {
   "cell_type": "code",
   "execution_count": null,
   "id": "a97ff199",
   "metadata": {},
   "outputs": [],
   "source": []
  }
 ],
 "metadata": {
  "kernelspec": {
   "display_name": "waste_cls",
   "language": "python",
   "name": "python3"
  },
  "language_info": {
   "codemirror_mode": {
    "name": "ipython",
    "version": 3
   },
   "file_extension": ".py",
   "mimetype": "text/x-python",
   "name": "python",
   "nbconvert_exporter": "python",
   "pygments_lexer": "ipython3",
   "version": "3.13.5"
  }
 },
 "nbformat": 4,
 "nbformat_minor": 5
}
